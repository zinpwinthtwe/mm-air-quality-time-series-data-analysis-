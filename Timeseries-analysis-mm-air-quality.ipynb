{
 "cells": [
  {
   "cell_type": "code",
   "execution_count": 35,
   "id": "dd2ed9ef",
   "metadata": {},
   "outputs": [],
   "source": [
    "#import libraries\n",
    "\n",
    "\n",
    "import pandas as pd\n",
    "import matplotlib.pyplot as plt\n",
    "import plotly.express as px\n",
    "import seaborn as sns\n",
    "\n",
    "import pytz # for timeseries data \"pytz mean python time zone\"\n",
    "from pymongo import MongoClient\n",
    "\n",
    "from sklearn.linear_model import LinearRegression\n",
    "from sklearn.metrics import mean_absolute_error\n",
    "\n",
    "from pprint import PrettyPrinter"
   ]
  },
  {
   "cell_type": "code",
   "execution_count": 36,
   "id": "2438aab6",
   "metadata": {},
   "outputs": [],
   "source": [
    "pp = PrettyPrinter(indent = 3)"
   ]
  },
  {
   "cell_type": "markdown",
   "id": "cb20994c",
   "metadata": {},
   "source": [
    "### Prepare Data\n",
    "### Import\n",
    "\n",
    "connect MongoDB sever and assign \"air-quality\" database and assign \"myanmar\" collection to mm. "
   ]
  },
  {
   "cell_type": "code",
   "execution_count": 37,
   "id": "8c7e0625",
   "metadata": {},
   "outputs": [],
   "source": [
    "client = MongoClient(host=\"localhost\",port=27017)\n",
    "db = client[\"air-quality\"]\n",
    "mm = db[\"myanmar\"]"
   ]
  },
  {
   "cell_type": "markdown",
   "id": "67a840a5",
   "metadata": {},
   "source": [
    "### Data wrangling and Suspecting data\n",
    "\n",
    "### Inspiration Questions\n",
    "\n",
    "* How many cities for sites and centers for sensors are included in the myanmar collection.\n",
    "\n",
    "* How many readings there are for each city in the myanmar collection.\n",
    "\n",
    "* Which center are located in Yangon and Mandalay. And total reading counts in each center has."
   ]
  },
  {
   "cell_type": "code",
   "execution_count": 38,
   "id": "98a0d407",
   "metadata": {
    "scrolled": true
   },
   "outputs": [
    {
     "name": "stdout",
     "output_type": "stream",
     "text": [
      "{  'AQI': 122.59,\n",
      "   'Center': '7 Miles Mayangone',\n",
      "   'City': 'Yangon',\n",
      "   'Cumulative_cases': 0,\n",
      "   'Cumulative_deaths': 0,\n",
      "   'Date': datetime.datetime(2019, 10, 19, 17, 30),\n",
      "   'Humidity_%': 49.64,\n",
      "   'Month': 'October',\n",
      "   'New_cases': 0,\n",
      "   'New_deaths': 0,\n",
      "   'PM10': 52.87,\n",
      "   'PM1_0': 29.6,\n",
      "   'PM2_5': 44.27,\n",
      "   'Season': 'Rainy Season',\n",
      "   'Temperature_F': 95.67,\n",
      "   'Year': 2019,\n",
      "   '_id': ObjectId('641b12171dfcde02aded15ca')}\n"
     ]
    }
   ],
   "source": [
    "result = mm.find_one({})\n",
    "pp.pprint(result)"
   ]
  },
  {
   "cell_type": "code",
   "execution_count": 39,
   "id": "73533806",
   "metadata": {},
   "outputs": [
    {
     "data": {
      "text/plain": [
       "['Mandalay', 'Yangon']"
      ]
     },
     "execution_count": 39,
     "metadata": {},
     "output_type": "execute_result"
    }
   ],
   "source": [
    "mm.distinct('City')"
   ]
  },
  {
   "cell_type": "markdown",
   "id": "42e68413",
   "metadata": {},
   "source": [
    "So we may see that there are only cities for sites are included in the myanmar collection."
   ]
  },
  {
   "cell_type": "code",
   "execution_count": 40,
   "id": "89cdca65",
   "metadata": {
    "scrolled": false
   },
   "outputs": [
    {
     "data": {
      "text/plain": [
       "['19th Street',\n",
       " '7 Miles Mayangone',\n",
       " 'Ahlone Myanmar Center for Responsible Business',\n",
       " 'American Center',\n",
       " 'Beca Myanmar (Outside)',\n",
       " 'GEMS Condo',\n",
       " 'Jefferson Center',\n",
       " 'Pun Hlaing Dulwich College',\n",
       " 'Star City Dulwich College',\n",
       " 'Thin Gan Gyun Yangon International School (Outside)',\n",
       " 'UNOPS Myanmar',\n",
       " 'WWF-Myanmar',\n",
       " 'YIS Grade 4 C (Inside)',\n",
       " 'Yangon-HO']"
      ]
     },
     "execution_count": 40,
     "metadata": {},
     "output_type": "execute_result"
    }
   ],
   "source": [
    "mm.distinct('Center')"
   ]
  },
  {
   "cell_type": "markdown",
   "id": "a2681895",
   "metadata": {},
   "source": [
    "So we may see that there are fourteen centers for sensors are included in the myanmar collection."
   ]
  },
  {
   "cell_type": "code",
   "execution_count": 41,
   "id": "8c15e77e",
   "metadata": {},
   "outputs": [],
   "source": [
    "ygn_centers = mm.count_documents({'City': 'Yangon'})\n",
    "mdy_centers = mm.count_documents({'City': 'Mandalay'})"
   ]
  },
  {
   "cell_type": "code",
   "execution_count": 42,
   "id": "8d99c43b",
   "metadata": {},
   "outputs": [
    {
     "name": "stdout",
     "output_type": "stream",
     "text": [
      "Documents from ygn_center:  4366\n",
      "Documents from mdy_center:  756\n"
     ]
    }
   ],
   "source": [
    "print(\"Documents from ygn_center: \", ygn_centers)\n",
    "print(\"Documents from mdy_center: \", mdy_centers)"
   ]
  },
  {
   "cell_type": "markdown",
   "id": "1ab894ad",
   "metadata": {},
   "source": [
    "Above documents are readings for each city in the myanmar collection."
   ]
  },
  {
   "cell_type": "code",
   "execution_count": 43,
   "id": "44a59289",
   "metadata": {
    "scrolled": true
   },
   "outputs": [
    {
     "name": "stdout",
     "output_type": "stream",
     "text": [
      "Centers in Yangon :\n",
      "[  {'_id': 'Ahlone Myanmar Center for Responsible Business', 'count': 378},\n",
      "   {'_id': 'American Center', 'count': 378},\n",
      "   {'_id': 'WWF-Myanmar', 'count': 208},\n",
      "   {'_id': 'Yangon-HO', 'count': 378},\n",
      "   {'_id': 'YIS Grade 4 C (Inside)', 'count': 378},\n",
      "   {'_id': '7 Miles Mayangone', 'count': 378},\n",
      "   {'_id': 'Beca Myanmar (Outside)', 'count': 378},\n",
      "   {'_id': 'UNOPS Myanmar', 'count': 378},\n",
      "   {'_id': 'GEMS Condo', 'count': 378},\n",
      "   {'_id': 'Thin Gan Gyun Yangon International School (Outside)', 'count': 378},\n",
      "   {'_id': 'Star City Dulwich College', 'count': 378},\n",
      "   {'_id': 'Pun Hlaing Dulwich College', 'count': 378}]\n"
     ]
    }
   ],
   "source": [
    "ygn_center = mm.aggregate(\n",
    "    [\n",
    "        {'$match' : {'City': 'Yangon'}},\n",
    "        {'$group' : {'_id': '$Center', 'count':{'$count':{}}}}\n",
    "    ]\n",
    ")\n",
    "print(\"Centers in Yangon :\")\n",
    "pp.pprint(list(ygn_center))"
   ]
  },
  {
   "cell_type": "markdown",
   "id": "173f657b",
   "metadata": {},
   "source": [
    "Twelve centers are located in Yangon and reading counts for each center."
   ]
  },
  {
   "cell_type": "code",
   "execution_count": 44,
   "id": "099f2e6b",
   "metadata": {},
   "outputs": [
    {
     "name": "stdout",
     "output_type": "stream",
     "text": [
      "Centers in Mandalay :\n",
      "[  {'_id': 'Jefferson Center', 'count': 378},\n",
      "   {'_id': '19th Street', 'count': 378}]\n"
     ]
    }
   ],
   "source": [
    "mdy_center = mm.aggregate(\n",
    "    [\n",
    "        {'$match' : {'City': 'Mandalay'}},\n",
    "        {'$group' : {'_id': '$Center', 'count':{'$count':{}}}}\n",
    "    ]\n",
    ")\n",
    "print(\"Centers in Mandalay :\")\n",
    "pp.pprint(list(mdy_center))"
   ]
  },
  {
   "cell_type": "markdown",
   "id": "8aa4ad92",
   "metadata": {},
   "source": [
    "Only two centers are located in Madlay and reading counts for each center."
   ]
  },
  {
   "cell_type": "markdown",
   "id": "87cdfd05",
   "metadata": {},
   "source": [
    "### Add \"Wrangle\" fucntion \n",
    "Now, complete the wrangle function below so that the results from the database query are read into the DataFrame df. Be sure that the index of df is the \"Date\" from the results."
   ]
  },
  {
   "cell_type": "code",
   "execution_count": 71,
   "id": "3badac32",
   "metadata": {},
   "outputs": [],
   "source": [
    "def wrangle(collection):\n",
    "    \n",
    "    result = mm.find(\n",
    "        {'City': 'Yangon'},\n",
    "        projection={'_id': 0, 'City': 1, 'Center': 1, 'Season': 1, 'PM2_5': 1, 'Date': 1, 'Year' : 1},\n",
    "    )\n",
    "    \n",
    "    \n",
    "    #\"df_ygn\" is for Yangon City\n",
    "    df_ygn = pd.DataFrame(result).set_index('Date')\n",
    "    \n",
    "    \n",
    "    #localize timezone\n",
    "    df_ygn.index = df_ygn.index.tz_localize(\"UTC\").tz_convert(\"Asia/Yangon\")\n",
    "    \n",
    "    #remove outliner\n",
    "    df_ygn = df_ygn[df_ygn[\"PM2_5\"] < 3000]\n",
    "    \n",
    "    #resample to \"1W\" window\n",
    "    df_ygn = df_ygn[\"PM2_5\"].resample(\"1W\").mean().to_frame()\n",
    "    \n",
    "    #create a new column for lagging feature\n",
    "    df_ygn[\"PM2_5.S1\"] = df_ygn[\"PM2_5\"].shift(1)\n",
    "    df_ygn.dropna(inplace=True)\n",
    "\n",
    "\n",
    "    return df_ygn"
   ]
  },
  {
   "cell_type": "code",
   "execution_count": 72,
   "id": "cf60bcce",
   "metadata": {},
   "outputs": [
    {
     "name": "stdout",
     "output_type": "stream",
     "text": [
      "(54, 2)\n"
     ]
    },
    {
     "data": {
      "text/html": [
       "<div>\n",
       "<style scoped>\n",
       "    .dataframe tbody tr th:only-of-type {\n",
       "        vertical-align: middle;\n",
       "    }\n",
       "\n",
       "    .dataframe tbody tr th {\n",
       "        vertical-align: top;\n",
       "    }\n",
       "\n",
       "    .dataframe thead th {\n",
       "        text-align: right;\n",
       "    }\n",
       "</style>\n",
       "<table border=\"1\" class=\"dataframe\">\n",
       "  <thead>\n",
       "    <tr style=\"text-align: right;\">\n",
       "      <th></th>\n",
       "      <th>PM2_5</th>\n",
       "      <th>PM2_5.S1</th>\n",
       "    </tr>\n",
       "    <tr>\n",
       "      <th>Date</th>\n",
       "      <th></th>\n",
       "      <th></th>\n",
       "    </tr>\n",
       "  </thead>\n",
       "  <tbody>\n",
       "    <tr>\n",
       "      <th>2020-10-04 00:00:00+06:30</th>\n",
       "      <td>9.670952</td>\n",
       "      <td>4.458333</td>\n",
       "    </tr>\n",
       "    <tr>\n",
       "      <th>2020-10-11 00:00:00+06:30</th>\n",
       "      <td>14.444405</td>\n",
       "      <td>9.670952</td>\n",
       "    </tr>\n",
       "    <tr>\n",
       "      <th>2020-10-18 00:00:00+06:30</th>\n",
       "      <td>8.324762</td>\n",
       "      <td>14.444405</td>\n",
       "    </tr>\n",
       "    <tr>\n",
       "      <th>2020-10-25 00:00:00+06:30</th>\n",
       "      <td>7.620952</td>\n",
       "      <td>8.324762</td>\n",
       "    </tr>\n",
       "    <tr>\n",
       "      <th>2020-11-01 00:00:00+06:30</th>\n",
       "      <td>13.501944</td>\n",
       "      <td>7.620952</td>\n",
       "    </tr>\n",
       "  </tbody>\n",
       "</table>\n",
       "</div>"
      ],
      "text/plain": [
       "                               PM2_5   PM2_5.S1\n",
       "Date                                           \n",
       "2020-10-04 00:00:00+06:30   9.670952   4.458333\n",
       "2020-10-11 00:00:00+06:30  14.444405   9.670952\n",
       "2020-10-18 00:00:00+06:30   8.324762  14.444405\n",
       "2020-10-25 00:00:00+06:30   7.620952   8.324762\n",
       "2020-11-01 00:00:00+06:30  13.501944   7.620952"
      ]
     },
     "execution_count": 72,
     "metadata": {},
     "output_type": "execute_result"
    }
   ],
   "source": [
    "df_ygn = wrangle(mm)\n",
    "print(df_ygn.shape)\n",
    "df_ygn.tail()"
   ]
  },
  {
   "cell_type": "markdown",
   "id": "ec8b752d",
   "metadata": {},
   "source": [
    "the DatetimeIndex for df_ygn is localized to the correct timezone."
   ]
  },
  {
   "cell_type": "code",
   "execution_count": 49,
   "id": "562f05ac",
   "metadata": {},
   "outputs": [
    {
     "data": {
      "text/plain": [
       "DatetimeIndex(['2019-10-19 17:30:00', '2019-10-20 17:30:00',\n",
       "               '2019-10-21 17:30:00', '2019-10-22 17:30:00',\n",
       "               '2019-10-23 17:30:00'],\n",
       "              dtype='datetime64[ns]', name='Date', freq=None)"
      ]
     },
     "execution_count": 49,
     "metadata": {},
     "output_type": "execute_result"
    }
   ],
   "source": [
    "df_ygn.index[:5]"
   ]
  },
  {
   "cell_type": "code",
   "execution_count": 47,
   "id": "9aed6d57",
   "metadata": {},
   "outputs": [
    {
     "data": {
      "text/plain": [
       "DatetimeIndex(['2019-10-19 17:30:00+00:00', '2019-10-20 17:30:00+00:00',\n",
       "               '2019-10-21 17:30:00+00:00', '2019-10-22 17:30:00+00:00',\n",
       "               '2019-10-23 17:30:00+00:00'],\n",
       "              dtype='datetime64[ns, UTC]', name='Date', freq=None)"
      ]
     },
     "execution_count": 47,
     "metadata": {},
     "output_type": "execute_result"
    }
   ],
   "source": [
    "df_ygn.index.tz_localize(\"UTC\")[:5]"
   ]
  },
  {
   "cell_type": "code",
   "execution_count": 48,
   "id": "c1cd1ede",
   "metadata": {},
   "outputs": [
    {
     "data": {
      "text/plain": [
       "DatetimeIndex(['2019-10-20 00:00:00+06:30', '2019-10-21 00:00:00+06:30',\n",
       "               '2019-10-22 00:00:00+06:30', '2019-10-23 00:00:00+06:30',\n",
       "               '2019-10-24 00:00:00+06:30'],\n",
       "              dtype='datetime64[ns, Asia/Yangon]', name='Date', freq=None)"
      ]
     },
     "execution_count": 48,
     "metadata": {},
     "output_type": "execute_result"
    }
   ],
   "source": [
    "df_ygn.index.tz_localize(\"UTC\").tz_convert(\"Asia/Yangon\")[:5]"
   ]
  },
  {
   "cell_type": "code",
   "execution_count": 62,
   "id": "2452d201",
   "metadata": {},
   "outputs": [],
   "source": [
    "# Check your work\n",
    "assert df_ygn.index.tzinfo == pytz.timezone(\"Asia/Yangon\")"
   ]
  },
  {
   "cell_type": "markdown",
   "id": "0179152a",
   "metadata": {},
   "source": [
    "### Explore Data and Visualization\n",
    "\n"
   ]
  },
  {
   "cell_type": "code",
   "execution_count": 51,
   "id": "a303534c",
   "metadata": {},
   "outputs": [
    {
     "data": {
      "text/plain": [
       "count    4366.000000\n",
       "mean       28.571748\n",
       "std        25.739374\n",
       "min         0.000000\n",
       "25%         6.810000\n",
       "50%        28.920000\n",
       "75%        44.442500\n",
       "max       163.680000\n",
       "Name: PM2_5, dtype: float64"
      ]
     },
     "execution_count": 51,
     "metadata": {},
     "output_type": "execute_result"
    }
   ],
   "source": [
    "df_ygn[\"PM2_5\"].describe()"
   ]
  },
  {
   "cell_type": "code",
   "execution_count": 52,
   "id": "daa9f372",
   "metadata": {
    "scrolled": true
   },
   "outputs": [
    {
     "data": {
      "image/png": "[encoded data removed]",
      "text/plain": [
       "<Figure size 1080x432 with 1 Axes>"
      ]
     },
     "metadata": {
      "needs_background": "light"
     },
     "output_type": "display_data"
    }
   ],
   "source": [
    "fig,ax =  plt.subplots(figsize=(15,6))\n",
    "df_ygn[\"PM2_5\"].plot(\n",
    "    ax=ax,\n",
    "    ylabel=\"PM2_5\",\n",
    "    title=\"Distribution of PM2_5 by Date\"\n",
    "    \n",
    ");\n",
    "fig.savefig('before.png')"
   ]
  },
  {
   "cell_type": "code",
   "execution_count": 63,
   "id": "be9b386c",
   "metadata": {},
   "outputs": [
    {
     "data": {
      "image/png": "[encoded data removed]",
      "text/plain": [
       "<Figure size 1080x432 with 1 Axes>"
      ]
     },
     "metadata": {
      "needs_background": "light"
     },
     "output_type": "display_data"
    }
   ],
   "source": [
    "#After resample\n",
    "fig,ax =  plt.subplots(figsize=(15,6))\n",
    "df_ygn[\"PM2_5\"].plot(\n",
    "    ax=ax,\n",
    "    ylabel=\"PM2_5\",\n",
    "    title=\"Distribution of PM2_5 by Date\"\n",
    "    \n",
    ");\n",
    "fig.savefig('After.png')"
   ]
  },
  {
   "cell_type": "code",
   "execution_count": 53,
   "id": "ed3fed59",
   "metadata": {},
   "outputs": [
    {
     "data": {
      "image/png": "[encoded data removed]",
      "text/plain": [
       "<Figure size 1080x432 with 1 Axes>"
      ]
     },
     "metadata": {
      "needs_background": "light"
     },
     "output_type": "display_data"
    }
   ],
   "source": [
    "fig, ax = plt.subplots(figsize=(15, 6))\n",
    "\n",
    "df_ygn[\"PM2_5\"].plot(\n",
    "    kind=\"box\",\n",
    "    vert = False,\n",
    "    title = \"Distribution of PM2.5\"\n",
    ")\n",
    "fig.savefig('box.png')"
   ]
  },
  {
   "cell_type": "code",
   "execution_count": null,
   "id": "6555a5f2",
   "metadata": {},
   "outputs": [],
   "source": [
    "#df_ygn[df_ygn[\"PM2_5\"] < 500].head()"
   ]
  },
  {
   "cell_type": "code",
   "execution_count": 54,
   "id": "c897e677",
   "metadata": {
    "scrolled": true
   },
   "outputs": [
    {
     "data": {
      "image/png": "[encoded data removed]",
      "text/plain": [
       "<Figure size 720x576 with 1 Axes>"
      ]
     },
     "metadata": {
      "needs_background": "light"
     },
     "output_type": "display_data"
    }
   ],
   "source": [
    "season = plt.figure(figsize=(10,8))\n",
    "fig = sns.boxplot(x='Season', y='PM2_5', data=df_ygn, hue=\"Season\")\n",
    "fig.set_xlabel(\"For Each Season\")\n",
    "fig.set_ylabel(\"PM2_5\")\n",
    "fig.set_title(\"Distribution of PM2_5 in Yangon by Seasons\")\n",
    "\n",
    "season.savefig('season.png')"
   ]
  },
  {
   "cell_type": "code",
   "execution_count": 55,
   "id": "00b2d471",
   "metadata": {
    "scrolled": true
   },
   "outputs": [
    {
     "data": {
      "image/png": "[encoded data removed]",
      "text/plain": [
       "<Figure size 720x576 with 1 Axes>"
      ]
     },
     "metadata": {
      "needs_background": "light"
     },
     "output_type": "display_data"
    }
   ],
   "source": [
    "season = plt.figure(figsize=(10,8))\n",
    "fig = sns.boxplot(x='Year', y='PM2_5', data=df_ygn, hue=\"Year\")\n",
    "fig.set_xlabel(\"For Each Year\")\n",
    "fig.set_ylabel(\"PM2_5\")\n",
    "fig.set_title(\"Distribution of PM2_5 in Yangon by Year\")\n",
    "\n",
    "season.savefig('year.png')"
   ]
  },
  {
   "cell_type": "markdown",
   "id": "891d2168",
   "metadata": {},
   "source": [
    "One way to measure a person’s fitness is to measure their body fat percentage. Most guidelines expect a difference between body fat for men and for women. (For more on this data, see the two-sample t-test page.) The variable Body Fat is continuous, so a box plot is an appropriate method for displaying the distribution of the data. Figure 9 shows separate side-by-side box plots for men and women.\n",
    "\n",
    "From this graph, you can see that men have a lower median body fat than women. You can also see that the ranges for men and women overlap. The data for men has more skewness than the data for women. Neither group has outliers. With JMP, you could add means diamonds, a line for each mean, and annotations to these box plots\n"
   ]
  },
  {
   "cell_type": "code",
   "execution_count": 56,
   "id": "408bc75a",
   "metadata": {
    "scrolled": true
   },
   "outputs": [
    {
     "data": {
      "image/png": "[encoded data removed]",
      "text/plain": [
       "<Figure size 2160x1440 with 1 Axes>"
      ]
     },
     "metadata": {
      "needs_background": "light"
     },
     "output_type": "display_data"
    }
   ],
   "source": [
    "season = plt.figure(figsize=(30,20))\n",
    "fig = sns.boxplot(x='Center', y='PM2_5', data=df_ygn, hue=\"Center\")\n",
    "fig.set_xlabel(\"Centers in Yangon\")\n",
    "fig.set_ylabel(\"PM2_5\")\n",
    "fig.set_title(\"Distribution of PM2_5 by Center\")\n",
    "\n",
    "season.savefig('center.png')"
   ]
  },
  {
   "cell_type": "code",
   "execution_count": 57,
   "id": "fcf0e16c",
   "metadata": {},
   "outputs": [
    {
     "data": {
      "text/plain": [
       "0"
      ]
     },
     "execution_count": 57,
     "metadata": {},
     "output_type": "execute_result"
    }
   ],
   "source": [
    "df_ygn[\"PM2_5\"].resample(\"1W\").mean().isnull().sum()"
   ]
  },
  {
   "cell_type": "code",
   "execution_count": 58,
   "id": "1bb27307",
   "metadata": {
    "scrolled": false
   },
   "outputs": [
    {
     "data": {
      "text/html": [
       "<div>\n",
       "<style scoped>\n",
       "    .dataframe tbody tr th:only-of-type {\n",
       "        vertical-align: middle;\n",
       "    }\n",
       "\n",
       "    .dataframe tbody tr th {\n",
       "        vertical-align: top;\n",
       "    }\n",
       "\n",
       "    .dataframe thead th {\n",
       "        text-align: right;\n",
       "    }\n",
       "</style>\n",
       "<table border=\"1\" class=\"dataframe\">\n",
       "  <thead>\n",
       "    <tr style=\"text-align: right;\">\n",
       "      <th></th>\n",
       "      <th>PM2_5</th>\n",
       "    </tr>\n",
       "    <tr>\n",
       "      <th>Date</th>\n",
       "      <th></th>\n",
       "    </tr>\n",
       "  </thead>\n",
       "  <tbody>\n",
       "    <tr>\n",
       "      <th>2019-10-19 17:00:00</th>\n",
       "      <td>31.755455</td>\n",
       "    </tr>\n",
       "    <tr>\n",
       "      <th>2019-10-19 18:00:00</th>\n",
       "      <td>NaN</td>\n",
       "    </tr>\n",
       "    <tr>\n",
       "      <th>2019-10-19 19:00:00</th>\n",
       "      <td>NaN</td>\n",
       "    </tr>\n",
       "    <tr>\n",
       "      <th>2019-10-19 20:00:00</th>\n",
       "      <td>NaN</td>\n",
       "    </tr>\n",
       "    <tr>\n",
       "      <th>2019-10-19 21:00:00</th>\n",
       "      <td>NaN</td>\n",
       "    </tr>\n",
       "  </tbody>\n",
       "</table>\n",
       "</div>"
      ],
      "text/plain": [
       "                         PM2_5\n",
       "Date                          \n",
       "2019-10-19 17:00:00  31.755455\n",
       "2019-10-19 18:00:00        NaN\n",
       "2019-10-19 19:00:00        NaN\n",
       "2019-10-19 20:00:00        NaN\n",
       "2019-10-19 21:00:00        NaN"
      ]
     },
     "execution_count": 58,
     "metadata": {},
     "output_type": "execute_result"
    }
   ],
   "source": [
    "df_ygn[\"PM2_5\"].resample(\"1H\").mean().to_frame().head()"
   ]
  },
  {
   "cell_type": "markdown",
   "id": "77b9eebf",
   "metadata": {},
   "source": [
    "Plot the rolling average of the \"PM2_5\" readings in df_ygn. Use a window size of 168 (the number of hours in a week)"
   ]
  },
  {
   "cell_type": "code",
   "execution_count": 65,
   "id": "39f18c4d",
   "metadata": {
    "scrolled": true
   },
   "outputs": [
    {
     "data": {
      "image/png": "[encoded data removed]",
      "text/plain": [
       "<Figure size 1080x432 with 1 Axes>"
      ]
     },
     "metadata": {
      "needs_background": "light"
     },
     "output_type": "display_data"
    }
   ],
   "source": [
    "#After rolling our data\n",
    "fig,ax =  plt.subplots(figsize=(15,6))\n",
    "\n",
    "df_ygn[\"PM2_5\"].rolling(7).mean().plot(\n",
    "                                        ax=ax,\n",
    "                                        ylabel=\"PM2_5\",\n",
    "                                        title=\"Weekly Rolling Average\"\n",
    "    \n",
    ");\n",
    "fig.savefig('rolling.png')"
   ]
  },
  {
   "cell_type": "markdown",
   "id": "a240121b",
   "metadata": {},
   "source": [
    "create a column called \"PM2_5.S1\" that contains the mean\"PM2_5\" reading from the previous week."
   ]
  },
  {
   "cell_type": "code",
   "execution_count": 70,
   "id": "36a9a26c",
   "metadata": {},
   "outputs": [
    {
     "data": {
      "text/plain": [
       "Date\n",
       "2019-10-20 00:00:00+06:30          NaN\n",
       "2019-10-27 00:00:00+06:30    31.755455\n",
       "2019-11-03 00:00:00+06:30    34.255455\n",
       "2019-11-10 00:00:00+06:30    32.117662\n",
       "2019-11-17 00:00:00+06:30    30.322987\n",
       "Freq: W-SUN, Name: PM2_5.S1, dtype: float64"
      ]
     },
     "execution_count": 70,
     "metadata": {},
     "output_type": "execute_result"
    }
   ],
   "source": [
    "df_ygn[\"PM2_5.S1\"] = df_ygn[\"PM2_5\"].shift(1)\n",
    "df_ygn[\"PM2_5.S1\"].head()"
   ]
  },
  {
   "cell_type": "code",
   "execution_count": 73,
   "id": "e586e36b",
   "metadata": {},
   "outputs": [
    {
     "data": {
      "text/html": [
       "<div>\n",
       "<style scoped>\n",
       "    .dataframe tbody tr th:only-of-type {\n",
       "        vertical-align: middle;\n",
       "    }\n",
       "\n",
       "    .dataframe tbody tr th {\n",
       "        vertical-align: top;\n",
       "    }\n",
       "\n",
       "    .dataframe thead th {\n",
       "        text-align: right;\n",
       "    }\n",
       "</style>\n",
       "<table border=\"1\" class=\"dataframe\">\n",
       "  <thead>\n",
       "    <tr style=\"text-align: right;\">\n",
       "      <th></th>\n",
       "      <th>PM2_5</th>\n",
       "      <th>PM2_5.S1</th>\n",
       "    </tr>\n",
       "  </thead>\n",
       "  <tbody>\n",
       "    <tr>\n",
       "      <th>PM2_5</th>\n",
       "      <td>1.000000</td>\n",
       "      <td>0.934782</td>\n",
       "    </tr>\n",
       "    <tr>\n",
       "      <th>PM2_5.S1</th>\n",
       "      <td>0.934782</td>\n",
       "      <td>1.000000</td>\n",
       "    </tr>\n",
       "  </tbody>\n",
       "</table>\n",
       "</div>"
      ],
      "text/plain": [
       "             PM2_5  PM2_5.S1\n",
       "PM2_5     1.000000  0.934782\n",
       "PM2_5.S1  0.934782  1.000000"
      ]
     },
     "execution_count": 73,
     "metadata": {},
     "output_type": "execute_result"
    }
   ],
   "source": [
    "df_ygn.corr()"
   ]
  },
  {
   "cell_type": "code",
   "execution_count": 75,
   "id": "95ba7601",
   "metadata": {},
   "outputs": [
    {
     "data": {
      "text/plain": [
       "<matplotlib.collections.PathCollection at 0x15c0f5056d0>"
      ]
     },
     "execution_count": 75,
     "metadata": {},
     "output_type": "execute_result"
    },
    {
     "data": {
      "image/png": "[encoded data removed]",
      "text/plain": [
       "<Figure size 432x432 with 1 Axes>"
      ]
     },
     "metadata": {
      "needs_background": "light"
     },
     "output_type": "display_data"
    }
   ],
   "source": [
    "#Create a scatter plot that shows PM 2.5 mean reading for each week as a function of the mean reading from the previous week\n",
    "fig, ax  = plt.subplots(figsize=(6,6))\n",
    "\n",
    "ax.scatter(\n",
    "    x=df_ygn[\"PM2_5.S1\"],\n",
    "    y=df_ygn[\"PM2_5\"],\n",
    "    \n",
    ")\n"
   ]
  },
  {
   "cell_type": "markdown",
   "id": "ebf9a6dc",
   "metadata": {},
   "source": [
    "### Split\n",
    "\n",
    "Split the DataFrame df into the feature matrix X and the target vector y. Your target is \"PM2_5\""
   ]
  },
  {
   "cell_type": "code",
   "execution_count": 76,
   "id": "d1865569",
   "metadata": {},
   "outputs": [],
   "source": [
    "target = \"PM2_5\"\n",
    "y = df_ygn[target]\n",
    "X = df_ygn.drop(columns=target)"
   ]
  },
  {
   "cell_type": "code",
   "execution_count": 77,
   "id": "0c142c35",
   "metadata": {},
   "outputs": [
    {
     "data": {
      "text/plain": [
       "Date\n",
       "2019-10-27 00:00:00+06:30    34.255455\n",
       "2019-11-03 00:00:00+06:30    32.117662\n",
       "2019-11-10 00:00:00+06:30    30.322987\n",
       "2019-11-17 00:00:00+06:30    29.871948\n",
       "2019-11-24 00:00:00+06:30    36.776234\n",
       "Freq: W-SUN, Name: PM2_5, dtype: float64"
      ]
     },
     "execution_count": 77,
     "metadata": {},
     "output_type": "execute_result"
    }
   ],
   "source": [
    "y.head()"
   ]
  },
  {
   "cell_type": "markdown",
   "id": "c3d90a26",
   "metadata": {},
   "source": [
    "Split X and y into training and test sets. The first 80% of the data should be in your training set. The remaining 20% should be in the test set."
   ]
  },
  {
   "cell_type": "code",
   "execution_count": 78,
   "id": "cc79d2ce",
   "metadata": {},
   "outputs": [
    {
     "data": {
      "text/plain": [
       "43"
      ]
     },
     "execution_count": 78,
     "metadata": {},
     "output_type": "execute_result"
    }
   ],
   "source": [
    "int(len(X) * 0.8)"
   ]
  },
  {
   "cell_type": "code",
   "execution_count": 79,
   "id": "886c5be8",
   "metadata": {},
   "outputs": [],
   "source": [
    "cutoff = int(len(X) * 0.8)"
   ]
  },
  {
   "cell_type": "code",
   "execution_count": 81,
   "id": "79c1743e",
   "metadata": {},
   "outputs": [
    {
     "data": {
      "text/html": [
       "<div>\n",
       "<style scoped>\n",
       "    .dataframe tbody tr th:only-of-type {\n",
       "        vertical-align: middle;\n",
       "    }\n",
       "\n",
       "    .dataframe tbody tr th {\n",
       "        vertical-align: top;\n",
       "    }\n",
       "\n",
       "    .dataframe thead th {\n",
       "        text-align: right;\n",
       "    }\n",
       "</style>\n",
       "<table border=\"1\" class=\"dataframe\">\n",
       "  <thead>\n",
       "    <tr style=\"text-align: right;\">\n",
       "      <th></th>\n",
       "      <th>PM2_5.S1</th>\n",
       "    </tr>\n",
       "    <tr>\n",
       "      <th>Date</th>\n",
       "      <th></th>\n",
       "    </tr>\n",
       "  </thead>\n",
       "  <tbody>\n",
       "    <tr>\n",
       "      <th>2019-10-27 00:00:00+06:30</th>\n",
       "      <td>31.755455</td>\n",
       "    </tr>\n",
       "    <tr>\n",
       "      <th>2019-11-03 00:00:00+06:30</th>\n",
       "      <td>34.255455</td>\n",
       "    </tr>\n",
       "    <tr>\n",
       "      <th>2019-11-10 00:00:00+06:30</th>\n",
       "      <td>32.117662</td>\n",
       "    </tr>\n",
       "    <tr>\n",
       "      <th>2019-11-17 00:00:00+06:30</th>\n",
       "      <td>30.322987</td>\n",
       "    </tr>\n",
       "    <tr>\n",
       "      <th>2019-11-24 00:00:00+06:30</th>\n",
       "      <td>29.871948</td>\n",
       "    </tr>\n",
       "  </tbody>\n",
       "</table>\n",
       "</div>"
      ],
      "text/plain": [
       "                            PM2_5.S1\n",
       "Date                                \n",
       "2019-10-27 00:00:00+06:30  31.755455\n",
       "2019-11-03 00:00:00+06:30  34.255455\n",
       "2019-11-10 00:00:00+06:30  32.117662\n",
       "2019-11-17 00:00:00+06:30  30.322987\n",
       "2019-11-24 00:00:00+06:30  29.871948"
      ]
     },
     "execution_count": 81,
     "metadata": {},
     "output_type": "execute_result"
    }
   ],
   "source": [
    "X.iloc[:cutoff].head()"
   ]
  },
  {
   "cell_type": "code",
   "execution_count": 102,
   "id": "5a0f7ef7",
   "metadata": {},
   "outputs": [],
   "source": [
    "#for training data we take 80%\n",
    "cutoff = int(len(X) * 0.8)\n",
    "\n",
    "X_train,y_train = X.iloc[:cutoff], y.iloc[:cutoff]\n",
    "X_test,y_test = X.iloc[cutoff:], y.iloc[cutoff:]"
   ]
  },
  {
   "cell_type": "markdown",
   "id": "45d122fd",
   "metadata": {},
   "source": [
    "## Build Model\n",
    "### Baseline\n",
    "Calculate the baseline mean absolute error for model."
   ]
  },
  {
   "cell_type": "code",
   "execution_count": 103,
   "id": "f588e4a1",
   "metadata": {},
   "outputs": [
    {
     "data": {
      "text/plain": [
       "34.02802501761804"
      ]
     },
     "execution_count": 103,
     "metadata": {},
     "output_type": "execute_result"
    }
   ],
   "source": [
    "y_mean = y_train.mean()\n",
    "y_mean"
   ]
  },
  {
   "cell_type": "code",
   "execution_count": 104,
   "id": "16edc63a",
   "metadata": {},
   "outputs": [
    {
     "name": "stdout",
     "output_type": "stream",
     "text": [
      "Mean PM2_5 Reading: 34.03\n",
      "Baseline Mae: 15.7\n"
     ]
    }
   ],
   "source": [
    "y_pred_baseline = [y_mean] * len(X_train)\n",
    "mae_baselinea= mean_absolute_error(y_train,y_pred_baseline)\n",
    "\n",
    "print(\"Mean PM2_5 Reading:\", round(y_train.mean(), 2))\n",
    "print(\"Baseline Mae:\", round(mae_baselinea, 2))"
   ]
  },
  {
   "cell_type": "markdown",
   "id": "7928f558",
   "metadata": {},
   "source": [
    "### Iterate\n",
    "\n",
    "Instantiate a LinearRegression model named model, and fit it to training data"
   ]
  },
  {
   "cell_type": "code",
   "execution_count": 105,
   "id": "87f486cf",
   "metadata": {
    "scrolled": false
   },
   "outputs": [
    {
     "data": {
      "text/html": [
       "<style>#sk-container-id-3 {color: black;background-color: white;}#sk-container-id-3 pre{padding: 0;}#sk-container-id-3 div.sk-toggleable {background-color: white;}#sk-container-id-3 label.sk-toggleable__label {cursor: pointer;display: block;width: 100%;margin-bottom: 0;padding: 0.3em;box-sizing: border-box;text-align: center;}#sk-container-id-3 label.sk-toggleable__label-arrow:before {content: \"▸\";float: left;margin-right: 0.25em;color: #696969;}#sk-container-id-3 label.sk-toggleable__label-arrow:hover:before {color: black;}#sk-container-id-3 div.sk-estimator:hover label.sk-toggleable__label-arrow:before {color: black;}#sk-container-id-3 div.sk-toggleable__content {max-height: 0;max-width: 0;overflow: hidden;text-align: left;background-color: #f0f8ff;}#sk-container-id-3 div.sk-toggleable__content pre {margin: 0.2em;color: black;border-radius: 0.25em;background-color: #f0f8ff;}#sk-container-id-3 input.sk-toggleable__control:checked~div.sk-toggleable__content {max-height: 200px;max-width: 100%;overflow: auto;}#sk-container-id-3 input.sk-toggleable__control:checked~label.sk-toggleable__label-arrow:before {content: \"▾\";}#sk-container-id-3 div.sk-estimator input.sk-toggleable__control:checked~label.sk-toggleable__label {background-color: #d4ebff;}#sk-container-id-3 div.sk-label input.sk-toggleable__control:checked~label.sk-toggleable__label {background-color: #d4ebff;}#sk-container-id-3 input.sk-hidden--visually {border: 0;clip: rect(1px 1px 1px 1px);clip: rect(1px, 1px, 1px, 1px);height: 1px;margin: -1px;overflow: hidden;padding: 0;position: absolute;width: 1px;}#sk-container-id-3 div.sk-estimator {font-family: monospace;background-color: #f0f8ff;border: 1px dotted black;border-radius: 0.25em;box-sizing: border-box;margin-bottom: 0.5em;}#sk-container-id-3 div.sk-estimator:hover {background-color: #d4ebff;}#sk-container-id-3 div.sk-parallel-item::after {content: \"\";width: 100%;border-bottom: 1px solid gray;flex-grow: 1;}#sk-container-id-3 div.sk-label:hover label.sk-toggleable__label {background-color: #d4ebff;}#sk-container-id-3 div.sk-serial::before {content: \"\";position: absolute;border-left: 1px solid gray;box-sizing: border-box;top: 0;bottom: 0;left: 50%;z-index: 0;}#sk-container-id-3 div.sk-serial {display: flex;flex-direction: column;align-items: center;background-color: white;padding-right: 0.2em;padding-left: 0.2em;position: relative;}#sk-container-id-3 div.sk-item {position: relative;z-index: 1;}#sk-container-id-3 div.sk-parallel {display: flex;align-items: stretch;justify-content: center;background-color: white;position: relative;}#sk-container-id-3 div.sk-item::before, #sk-container-id-3 div.sk-parallel-item::before {content: \"\";position: absolute;border-left: 1px solid gray;box-sizing: border-box;top: 0;bottom: 0;left: 50%;z-index: -1;}#sk-container-id-3 div.sk-parallel-item {display: flex;flex-direction: column;z-index: 1;position: relative;background-color: white;}#sk-container-id-3 div.sk-parallel-item:first-child::after {align-self: flex-end;width: 50%;}#sk-container-id-3 div.sk-parallel-item:last-child::after {align-self: flex-start;width: 50%;}#sk-container-id-3 div.sk-parallel-item:only-child::after {width: 0;}#sk-container-id-3 div.sk-dashed-wrapped {border: 1px dashed gray;margin: 0 0.4em 0.5em 0.4em;box-sizing: border-box;padding-bottom: 0.4em;background-color: white;}#sk-container-id-3 div.sk-label label {font-family: monospace;font-weight: bold;display: inline-block;line-height: 1.2em;}#sk-container-id-3 div.sk-label-container {text-align: center;}#sk-container-id-3 div.sk-container {/* jupyter's `normalize.less` sets `[hidden] { display: none; }` but bootstrap.min.css set `[hidden] { display: none !important; }` so we also need the `!important` here to be able to override the default hidden behavior on the sphinx rendered scikit-learn.org. See: https://github.com/scikit-learn/scikit-learn/issues/21755 */display: inline-block !important;position: relative;}#sk-container-id-3 div.sk-text-repr-fallback {display: none;}</style><div id=\"sk-container-id-3\" class=\"sk-top-container\"><div class=\"sk-text-repr-fallback\"><pre>LinearRegression()</pre><b>In a Jupyter environment, please rerun this cell to show the HTML representation or trust the notebook. <br />On GitHub, the HTML representation is unable to render, please try loading this page with nbviewer.org.</b></div><div class=\"sk-container\" hidden><div class=\"sk-item\"><div class=\"sk-estimator sk-toggleable\"><input class=\"sk-toggleable__control sk-hidden--visually\" id=\"sk-estimator-id-3\" type=\"checkbox\" checked><label for=\"sk-estimator-id-3\" class=\"sk-toggleable__label sk-toggleable__label-arrow\">LinearRegression</label><div class=\"sk-toggleable__content\"><pre>LinearRegression()</pre></div></div></div></div></div>"
      ],
      "text/plain": [
       "LinearRegression()"
      ]
     },
     "execution_count": 105,
     "metadata": {},
     "output_type": "execute_result"
    }
   ],
   "source": [
    "model = LinearRegression()\n",
    "model.fit(X_train,y_train)"
   ]
  },
  {
   "cell_type": "markdown",
   "id": "dbeeccf8",
   "metadata": {},
   "source": [
    "### Evalute\n",
    "Calculate the training and test mean absolute error for mode"
   ]
  },
  {
   "cell_type": "code",
   "execution_count": 106,
   "id": "f3691a85",
   "metadata": {},
   "outputs": [
    {
     "name": "stdout",
     "output_type": "stream",
     "text": [
      "Training MAE: 5.3\n",
      "Test MAE: 3.66\n"
     ]
    }
   ],
   "source": [
    "training_mae = mean_absolute_error(y_train, model.predict(X_train))   #training\n",
    "\n",
    "test_mae = mean_absolute_error(y_test, model.predict(X_test))   # testing\n",
    "print(\"Training MAE:\", round(training_mae, 2))\n",
    "print(\"Test MAE:\", round(test_mae, 2))"
   ]
  },
  {
   "cell_type": "markdown",
   "id": "d4c0faaa",
   "metadata": {},
   "source": [
    "### Communicate Results\n",
    "Extract the intercept and coefficient from your model"
   ]
  },
  {
   "cell_type": "code",
   "execution_count": 107,
   "id": "a0dd99d6",
   "metadata": {},
   "outputs": [
    {
     "name": "stdout",
     "output_type": "stream",
     "text": [
      "PM2_5 = 1.79 + ([0.93] * PM2_5.S1)\n"
     ]
    }
   ],
   "source": [
    "intercept = model.intercept_.round(2)\n",
    "coefficient = model.coef_.round(2)\n",
    "\n",
    "print(f\"PM2_5 = {intercept} + ({coefficient} * PM2_5.S1)\")"
   ]
  },
  {
   "cell_type": "code",
   "execution_count": 108,
   "id": "9713596f",
   "metadata": {},
   "outputs": [
    {
     "data": {
      "text/html": [
       "<div>\n",
       "<style scoped>\n",
       "    .dataframe tbody tr th:only-of-type {\n",
       "        vertical-align: middle;\n",
       "    }\n",
       "\n",
       "    .dataframe tbody tr th {\n",
       "        vertical-align: top;\n",
       "    }\n",
       "\n",
       "    .dataframe thead th {\n",
       "        text-align: right;\n",
       "    }\n",
       "</style>\n",
       "<table border=\"1\" class=\"dataframe\">\n",
       "  <thead>\n",
       "    <tr style=\"text-align: right;\">\n",
       "      <th></th>\n",
       "      <th>y_test</th>\n",
       "      <th>y_pred</th>\n",
       "    </tr>\n",
       "    <tr>\n",
       "      <th>Date</th>\n",
       "      <th></th>\n",
       "      <th></th>\n",
       "    </tr>\n",
       "  </thead>\n",
       "  <tbody>\n",
       "    <tr>\n",
       "      <th>2020-08-23 00:00:00+06:30</th>\n",
       "      <td>13.492143</td>\n",
       "      <td>12.630525</td>\n",
       "    </tr>\n",
       "    <tr>\n",
       "      <th>2020-08-30 00:00:00+06:30</th>\n",
       "      <td>16.503214</td>\n",
       "      <td>14.396532</td>\n",
       "    </tr>\n",
       "    <tr>\n",
       "      <th>2020-09-06 00:00:00+06:30</th>\n",
       "      <td>13.176429</td>\n",
       "      <td>17.210771</td>\n",
       "    </tr>\n",
       "    <tr>\n",
       "      <th>2020-09-13 00:00:00+06:30</th>\n",
       "      <td>6.256071</td>\n",
       "      <td>14.101456</td>\n",
       "    </tr>\n",
       "    <tr>\n",
       "      <th>2020-09-20 00:00:00+06:30</th>\n",
       "      <td>6.378452</td>\n",
       "      <td>7.633479</td>\n",
       "    </tr>\n",
       "  </tbody>\n",
       "</table>\n",
       "</div>"
      ],
      "text/plain": [
       "                              y_test     y_pred\n",
       "Date                                           \n",
       "2020-08-23 00:00:00+06:30  13.492143  12.630525\n",
       "2020-08-30 00:00:00+06:30  16.503214  14.396532\n",
       "2020-09-06 00:00:00+06:30  13.176429  17.210771\n",
       "2020-09-13 00:00:00+06:30   6.256071  14.101456\n",
       "2020-09-20 00:00:00+06:30   6.378452   7.633479"
      ]
     },
     "execution_count": 108,
     "metadata": {},
     "output_type": "execute_result"
    }
   ],
   "source": [
    "df_pred_test = pd.DataFrame(\n",
    "    {\n",
    "    'y_test' : y_test,\n",
    "    'y_pred' : model.predict(X_test)\n",
    "    }\n",
    ")\n",
    "df_pred_test.head()"
   ]
  },
  {
   "cell_type": "code",
   "execution_count": 109,
   "id": "030cffe6",
   "metadata": {
    "scrolled": false
   },
   "outputs": [
    {
     "data": {
      "application/vnd.plotly.v1+json": {
       "config": {
        "plotlyServerURL": "https://plot.ly"
       },
       "data": [
        {
         "hovertemplate": "variable=y_test<br>Date=%{x}<br>PM2_5=%{y}<extra></extra>",
         "legendgroup": "y_test",
         "line": {
          "color": "#636efa",
          "dash": "solid"
         },
         "marker": {
          "symbol": "circle"
         },
         "mode": "lines",
         "name": "y_test",
         "orientation": "v",
         "showlegend": true,
         "type": "scatter",
         "x": [
          "2020-08-23T00:00:00+06:30",
          "2020-08-30T00:00:00+06:30",
          "2020-09-06T00:00:00+06:30",
          "2020-09-13T00:00:00+06:30",
          "2020-09-20T00:00:00+06:30",
          "2020-09-27T00:00:00+06:30",
          "2020-10-04T00:00:00+06:30",
          "2020-10-11T00:00:00+06:30",
          "2020-10-18T00:00:00+06:30",
          "2020-10-25T00:00:00+06:30",
          "2020-11-01T00:00:00+06:30"
         ],
         "xaxis": "x",
         "y": [
          13.492142857142856,
          16.503214285714286,
          13.17642857142857,
          6.2560714285714285,
          6.37845238095238,
          4.458333333333333,
          9.67095238095238,
          14.44440476190476,
          8.324761904761905,
          7.620952380952381,
          13.501944444444444
         ],
         "yaxis": "y"
        },
        {
         "hovertemplate": "variable=y_pred<br>Date=%{x}<br>PM2_5=%{y}<extra></extra>",
         "legendgroup": "y_pred",
         "line": {
          "color": "#EF553B",
          "dash": "solid"
         },
         "marker": {
          "symbol": "circle"
         },
         "mode": "lines",
         "name": "y_pred",
         "orientation": "v",
         "showlegend": true,
         "type": "scatter",
         "x": [
          "2020-08-23T00:00:00+06:30",
          "2020-08-30T00:00:00+06:30",
          "2020-09-06T00:00:00+06:30",
          "2020-09-13T00:00:00+06:30",
          "2020-09-20T00:00:00+06:30",
          "2020-09-27T00:00:00+06:30",
          "2020-10-04T00:00:00+06:30",
          "2020-10-11T00:00:00+06:30",
          "2020-10-18T00:00:00+06:30",
          "2020-10-25T00:00:00+06:30",
          "2020-11-01T00:00:00+06:30"
         ],
         "xaxis": "x",
         "y": [
          12.630525305297352,
          14.396531680767442,
          17.210770545104957,
          14.101455514704773,
          7.633479417650093,
          7.747860374932303,
          5.953258760141659,
          10.825130934809845,
          15.286544596429316,
          9.566940404705523,
          8.909138634810162
         ],
         "yaxis": "y"
        }
       ],
       "layout": {
        "legend": {
         "title": {
          "text": "variable"
         },
         "tracegroupgap": 0
        },
        "margin": {
         "t": 60
        },
        "template": {
         "data": {
          "bar": [
           {
            "error_x": {
             "color": "#2a3f5f"
            },
            "error_y": {
             "color": "#2a3f5f"
            },
            "marker": {
             "line": {
              "color": "#E5ECF6",
              "width": 0.5
             },
             "pattern": {
              "fillmode": "overlay",
              "size": 10,
              "solidity": 0.2
             }
            },
            "type": "bar"
           }
          ],
          "barpolar": [
           {
            "marker": {
             "line": {
              "color": "#E5ECF6",
              "width": 0.5
             },
             "pattern": {
              "fillmode": "overlay",
              "size": 10,
              "solidity": 0.2
             }
            },
            "type": "barpolar"
           }
          ],
          "carpet": [
           {
            "aaxis": {
             "endlinecolor": "#2a3f5f",
             "gridcolor": "white",
             "linecolor": "white",
             "minorgridcolor": "white",
             "startlinecolor": "#2a3f5f"
            },
            "baxis": {
             "endlinecolor": "#2a3f5f",
             "gridcolor": "white",
             "linecolor": "white",
             "minorgridcolor": "white",
             "startlinecolor": "#2a3f5f"
            },
            "type": "carpet"
           }
          ],
          "choropleth": [
           {
            "colorbar": {
             "outlinewidth": 0,
             "ticks": ""
            },
            "type": "choropleth"
           }
          ],
          "contour": [
           {
            "colorbar": {
             "outlinewidth": 0,
             "ticks": ""
            },
            "colorscale": [
             [
              0,
              "#0d0887"
             ],
             [
              0.1111111111111111,
              "#46039f"
             ],
             [
              0.2222222222222222,
              "#7201a8"
             ],
             [
              0.3333333333333333,
              "#9c179e"
             ],
             [
              0.4444444444444444,
              "#bd3786"
             ],
             [
              0.5555555555555556,
              "#d8576b"
             ],
             [
              0.6666666666666666,
              "#ed7953"
             ],
             [
              0.7777777777777778,
              "#fb9f3a"
             ],
             [
              0.8888888888888888,
              "#fdca26"
             ],
             [
              1,
              "#f0f921"
             ]
            ],
            "type": "contour"
           }
          ],
          "contourcarpet": [
           {
            "colorbar": {
             "outlinewidth": 0,
             "ticks": ""
            },
            "type": "contourcarpet"
           }
          ],
          "heatmap": [
           {
            "colorbar": {
             "outlinewidth": 0,
             "ticks": ""
            },
            "colorscale": [
             [
              0,
              "#0d0887"
             ],
             [
              0.1111111111111111,
              "#46039f"
             ],
             [
              0.2222222222222222,
              "#7201a8"
             ],
             [
              0.3333333333333333,
              "#9c179e"
             ],
             [
              0.4444444444444444,
              "#bd3786"
             ],
             [
              0.5555555555555556,
              "#d8576b"
             ],
             [
              0.6666666666666666,
              "#ed7953"
             ],
             [
              0.7777777777777778,
              "#fb9f3a"
             ],
             [
              0.8888888888888888,
              "#fdca26"
             ],
             [
              1,
              "#f0f921"
             ]
            ],
            "type": "heatmap"
           }
          ],
          "heatmapgl": [
           {
            "colorbar": {
             "outlinewidth": 0,
             "ticks": ""
            },
            "colorscale": [
             [
              0,
              "#0d0887"
             ],
             [
              0.1111111111111111,
              "#46039f"
             ],
             [
              0.2222222222222222,
              "#7201a8"
             ],
             [
              0.3333333333333333,
              "#9c179e"
             ],
             [
              0.4444444444444444,
              "#bd3786"
             ],
             [
              0.5555555555555556,
              "#d8576b"
             ],
             [
              0.6666666666666666,
              "#ed7953"
             ],
             [
              0.7777777777777778,
              "#fb9f3a"
             ],
             [
              0.8888888888888888,
              "#fdca26"
             ],
             [
              1,
              "#f0f921"
             ]
            ],
            "type": "heatmapgl"
           }
          ],
          "histogram": [
           {
            "marker": {
             "pattern": {
              "fillmode": "overlay",
              "size": 10,
              "solidity": 0.2
             }
            },
            "type": "histogram"
           }
          ],
          "histogram2d": [
           {
            "colorbar": {
             "outlinewidth": 0,
             "ticks": ""
            },
            "colorscale": [
             [
              0,
              "#0d0887"
             ],
             [
              0.1111111111111111,
              "#46039f"
             ],
             [
              0.2222222222222222,
              "#7201a8"
             ],
             [
              0.3333333333333333,
              "#9c179e"
             ],
             [
              0.4444444444444444,
              "#bd3786"
             ],
             [
              0.5555555555555556,
              "#d8576b"
             ],
             [
              0.6666666666666666,
              "#ed7953"
             ],
             [
              0.7777777777777778,
              "#fb9f3a"
             ],
             [
              0.8888888888888888,
              "#fdca26"
             ],
             [
              1,
              "#f0f921"
             ]
            ],
            "type": "histogram2d"
           }
          ],
          "histogram2dcontour": [
           {
            "colorbar": {
             "outlinewidth": 0,
             "ticks": ""
            },
            "colorscale": [
             [
              0,
              "#0d0887"
             ],
             [
              0.1111111111111111,
              "#46039f"
             ],
             [
              0.2222222222222222,
              "#7201a8"
             ],
             [
              0.3333333333333333,
              "#9c179e"
             ],
             [
              0.4444444444444444,
              "#bd3786"
             ],
             [
              0.5555555555555556,
              "#d8576b"
             ],
             [
              0.6666666666666666,
              "#ed7953"
             ],
             [
              0.7777777777777778,
              "#fb9f3a"
             ],
             [
              0.8888888888888888,
              "#fdca26"
             ],
             [
              1,
              "#f0f921"
             ]
            ],
            "type": "histogram2dcontour"
           }
          ],
          "mesh3d": [
           {
            "colorbar": {
             "outlinewidth": 0,
             "ticks": ""
            },
            "type": "mesh3d"
           }
          ],
          "parcoords": [
           {
            "line": {
             "colorbar": {
              "outlinewidth": 0,
              "ticks": ""
             }
            },
            "type": "parcoords"
           }
          ],
          "pie": [
           {
            "automargin": true,
            "type": "pie"
           }
          ],
          "scatter": [
           {
            "fillpattern": {
             "fillmode": "overlay",
             "size": 10,
             "solidity": 0.2
            },
            "type": "scatter"
           }
          ],
          "scatter3d": [
           {
            "line": {
             "colorbar": {
              "outlinewidth": 0,
              "ticks": ""
             }
            },
            "marker": {
             "colorbar": {
              "outlinewidth": 0,
              "ticks": ""
             }
            },
            "type": "scatter3d"
           }
          ],
          "scattercarpet": [
           {
            "marker": {
             "colorbar": {
              "outlinewidth": 0,
              "ticks": ""
             }
            },
            "type": "scattercarpet"
           }
          ],
          "scattergeo": [
           {
            "marker": {
             "colorbar": {
              "outlinewidth": 0,
              "ticks": ""
             }
            },
            "type": "scattergeo"
           }
          ],
          "scattergl": [
           {
            "marker": {
             "colorbar": {
              "outlinewidth": 0,
              "ticks": ""
             }
            },
            "type": "scattergl"
           }
          ],
          "scattermapbox": [
           {
            "marker": {
             "colorbar": {
              "outlinewidth": 0,
              "ticks": ""
             }
            },
            "type": "scattermapbox"
           }
          ],
          "scatterpolar": [
           {
            "marker": {
             "colorbar": {
              "outlinewidth": 0,
              "ticks": ""
             }
            },
            "type": "scatterpolar"
           }
          ],
          "scatterpolargl": [
           {
            "marker": {
             "colorbar": {
              "outlinewidth": 0,
              "ticks": ""
             }
            },
            "type": "scatterpolargl"
           }
          ],
          "scatterternary": [
           {
            "marker": {
             "colorbar": {
              "outlinewidth": 0,
              "ticks": ""
             }
            },
            "type": "scatterternary"
           }
          ],
          "surface": [
           {
            "colorbar": {
             "outlinewidth": 0,
             "ticks": ""
            },
            "colorscale": [
             [
              0,
              "#0d0887"
             ],
             [
              0.1111111111111111,
              "#46039f"
             ],
             [
              0.2222222222222222,
              "#7201a8"
             ],
             [
              0.3333333333333333,
              "#9c179e"
             ],
             [
              0.4444444444444444,
              "#bd3786"
             ],
             [
              0.5555555555555556,
              "#d8576b"
             ],
             [
              0.6666666666666666,
              "#ed7953"
             ],
             [
              0.7777777777777778,
              "#fb9f3a"
             ],
             [
              0.8888888888888888,
              "#fdca26"
             ],
             [
              1,
              "#f0f921"
             ]
            ],
            "type": "surface"
           }
          ],
          "table": [
           {
            "cells": {
             "fill": {
              "color": "#EBF0F8"
             },
             "line": {
              "color": "white"
             }
            },
            "header": {
             "fill": {
              "color": "#C8D4E3"
             },
             "line": {
              "color": "white"
             }
            },
            "type": "table"
           }
          ]
         },
         "layout": {
          "annotationdefaults": {
           "arrowcolor": "#2a3f5f",
           "arrowhead": 0,
           "arrowwidth": 1
          },
          "autotypenumbers": "strict",
          "coloraxis": {
           "colorbar": {
            "outlinewidth": 0,
            "ticks": ""
           }
          },
          "colorscale": {
           "diverging": [
            [
             0,
             "#8e0152"
            ],
            [
             0.1,
             "#c51b7d"
            ],
            [
             0.2,
             "#de77ae"
            ],
            [
             0.3,
             "#f1b6da"
            ],
            [
             0.4,
             "#fde0ef"
            ],
            [
             0.5,
             "#f7f7f7"
            ],
            [
             0.6,
             "#e6f5d0"
            ],
            [
             0.7,
             "#b8e186"
            ],
            [
             0.8,
             "#7fbc41"
            ],
            [
             0.9,
             "#4d9221"
            ],
            [
             1,
             "#276419"
            ]
           ],
           "sequential": [
            [
             0,
             "#0d0887"
            ],
            [
             0.1111111111111111,
             "#46039f"
            ],
            [
             0.2222222222222222,
             "#7201a8"
            ],
            [
             0.3333333333333333,
             "#9c179e"
            ],
            [
             0.4444444444444444,
             "#bd3786"
            ],
            [
             0.5555555555555556,
             "#d8576b"
            ],
            [
             0.6666666666666666,
             "#ed7953"
            ],
            [
             0.7777777777777778,
             "#fb9f3a"
            ],
            [
             0.8888888888888888,
             "#fdca26"
            ],
            [
             1,
             "#f0f921"
            ]
           ],
           "sequentialminus": [
            [
             0,
             "#0d0887"
            ],
            [
             0.1111111111111111,
             "#46039f"
            ],
            [
             0.2222222222222222,
             "#7201a8"
            ],
            [
             0.3333333333333333,
             "#9c179e"
            ],
            [
             0.4444444444444444,
             "#bd3786"
            ],
            [
             0.5555555555555556,
             "#d8576b"
            ],
            [
             0.6666666666666666,
             "#ed7953"
            ],
            [
             0.7777777777777778,
             "#fb9f3a"
            ],
            [
             0.8888888888888888,
             "#fdca26"
            ],
            [
             1,
             "#f0f921"
            ]
           ]
          },
          "colorway": [
           "#636efa",
           "#EF553B",
           "#00cc96",
           "#ab63fa",
           "#FFA15A",
           "#19d3f3",
           "#FF6692",
           "#B6E880",
           "#FF97FF",
           "#FECB52"
          ],
          "font": {
           "color": "#2a3f5f"
          },
          "geo": {
           "bgcolor": "white",
           "lakecolor": "white",
           "landcolor": "#E5ECF6",
           "showlakes": true,
           "showland": true,
           "subunitcolor": "white"
          },
          "hoverlabel": {
           "align": "left"
          },
          "hovermode": "closest",
          "mapbox": {
           "style": "light"
          },
          "paper_bgcolor": "white",
          "plot_bgcolor": "#E5ECF6",
          "polar": {
           "angularaxis": {
            "gridcolor": "white",
            "linecolor": "white",
            "ticks": ""
           },
           "bgcolor": "#E5ECF6",
           "radialaxis": {
            "gridcolor": "white",
            "linecolor": "white",
            "ticks": ""
           }
          },
          "scene": {
           "xaxis": {
            "backgroundcolor": "#E5ECF6",
            "gridcolor": "white",
            "gridwidth": 2,
            "linecolor": "white",
            "showbackground": true,
            "ticks": "",
            "zerolinecolor": "white"
           },
           "yaxis": {
            "backgroundcolor": "#E5ECF6",
            "gridcolor": "white",
            "gridwidth": 2,
            "linecolor": "white",
            "showbackground": true,
            "ticks": "",
            "zerolinecolor": "white"
           },
           "zaxis": {
            "backgroundcolor": "#E5ECF6",
            "gridcolor": "white",
            "gridwidth": 2,
            "linecolor": "white",
            "showbackground": true,
            "ticks": "",
            "zerolinecolor": "white"
           }
          },
          "shapedefaults": {
           "line": {
            "color": "#2a3f5f"
           }
          },
          "ternary": {
           "aaxis": {
            "gridcolor": "white",
            "linecolor": "white",
            "ticks": ""
           },
           "baxis": {
            "gridcolor": "white",
            "linecolor": "white",
            "ticks": ""
           },
           "bgcolor": "#E5ECF6",
           "caxis": {
            "gridcolor": "white",
            "linecolor": "white",
            "ticks": ""
           }
          },
          "title": {
           "x": 0.05
          },
          "xaxis": {
           "automargin": true,
           "gridcolor": "white",
           "linecolor": "white",
           "ticks": "",
           "title": {
            "standoff": 15
           },
           "zerolinecolor": "white",
           "zerolinewidth": 2
          },
          "yaxis": {
           "automargin": true,
           "gridcolor": "white",
           "linecolor": "white",
           "ticks": "",
           "title": {
            "standoff": 15
           },
           "zerolinecolor": "white",
           "zerolinewidth": 2
          }
         }
        },
        "xaxis": {
         "anchor": "y",
         "domain": [
          0,
          1
         ],
         "title": {
          "text": "Date"
         }
        },
        "yaxis": {
         "anchor": "x",
         "domain": [
          0,
          1
         ],
         "title": {
          "text": "PM2_5"
         }
        }
       }
      },
      "text/html": [
       "<div>                            <div id=\"b7ff0d07-a1f9-4f20-9469-c2aa3772e643\" class=\"plotly-graph-div\" style=\"height:525px; width:100%;\"></div>            <script type=\"text/javascript\">                require([\"plotly\"], function(Plotly) {                    window.PLOTLYENV=window.PLOTLYENV || {};                                    if (document.getElementById(\"b7ff0d07-a1f9-4f20-9469-c2aa3772e643\")) {                    Plotly.newPlot(                        \"b7ff0d07-a1f9-4f20-9469-c2aa3772e643\",                        [{\"hovertemplate\":\"variable=y_test<br>Date=%{x}<br>PM2_5=%{y}<extra></extra>\",\"legendgroup\":\"y_test\",\"line\":{\"color\":\"#636efa\",\"dash\":\"solid\"},\"marker\":{\"symbol\":\"circle\"},\"mode\":\"lines\",\"name\":\"y_test\",\"orientation\":\"v\",\"showlegend\":true,\"x\":[\"2020-08-23T00:00:00+06:30\",\"2020-08-30T00:00:00+06:30\",\"2020-09-06T00:00:00+06:30\",\"2020-09-13T00:00:00+06:30\",\"2020-09-20T00:00:00+06:30\",\"2020-09-27T00:00:00+06:30\",\"2020-10-04T00:00:00+06:30\",\"2020-10-11T00:00:00+06:30\",\"2020-10-18T00:00:00+06:30\",\"2020-10-25T00:00:00+06:30\",\"2020-11-01T00:00:00+06:30\"],\"xaxis\":\"x\",\"y\":[13.492142857142856,16.503214285714286,13.17642857142857,6.2560714285714285,6.37845238095238,4.458333333333333,9.67095238095238,14.44440476190476,8.324761904761905,7.620952380952381,13.501944444444444],\"yaxis\":\"y\",\"type\":\"scatter\"},{\"hovertemplate\":\"variable=y_pred<br>Date=%{x}<br>PM2_5=%{y}<extra></extra>\",\"legendgroup\":\"y_pred\",\"line\":{\"color\":\"#EF553B\",\"dash\":\"solid\"},\"marker\":{\"symbol\":\"circle\"},\"mode\":\"lines\",\"name\":\"y_pred\",\"orientation\":\"v\",\"showlegend\":true,\"x\":[\"2020-08-23T00:00:00+06:30\",\"2020-08-30T00:00:00+06:30\",\"2020-09-06T00:00:00+06:30\",\"2020-09-13T00:00:00+06:30\",\"2020-09-20T00:00:00+06:30\",\"2020-09-27T00:00:00+06:30\",\"2020-10-04T00:00:00+06:30\",\"2020-10-11T00:00:00+06:30\",\"2020-10-18T00:00:00+06:30\",\"2020-10-25T00:00:00+06:30\",\"2020-11-01T00:00:00+06:30\"],\"xaxis\":\"x\",\"y\":[12.630525305297352,14.396531680767442,17.210770545104957,14.101455514704773,7.633479417650093,7.747860374932303,5.953258760141659,10.825130934809845,15.286544596429316,9.566940404705523,8.909138634810162],\"yaxis\":\"y\",\"type\":\"scatter\"}],                        {\"template\":{\"data\":{\"histogram2dcontour\":[{\"type\":\"histogram2dcontour\",\"colorbar\":{\"outlinewidth\":0,\"ticks\":\"\"},\"colorscale\":[[0.0,\"#0d0887\"],[0.1111111111111111,\"#46039f\"],[0.2222222222222222,\"#7201a8\"],[0.3333333333333333,\"#9c179e\"],[0.4444444444444444,\"#bd3786\"],[0.5555555555555556,\"#d8576b\"],[0.6666666666666666,\"#ed7953\"],[0.7777777777777778,\"#fb9f3a\"],[0.8888888888888888,\"#fdca26\"],[1.0,\"#f0f921\"]]}],\"choropleth\":[{\"type\":\"choropleth\",\"colorbar\":{\"outlinewidth\":0,\"ticks\":\"\"}}],\"histogram2d\":[{\"type\":\"histogram2d\",\"colorbar\":{\"outlinewidth\":0,\"ticks\":\"\"},\"colorscale\":[[0.0,\"#0d0887\"],[0.1111111111111111,\"#46039f\"],[0.2222222222222222,\"#7201a8\"],[0.3333333333333333,\"#9c179e\"],[0.4444444444444444,\"#bd3786\"],[0.5555555555555556,\"#d8576b\"],[0.6666666666666666,\"#ed7953\"],[0.7777777777777778,\"#fb9f3a\"],[0.8888888888888888,\"#fdca26\"],[1.0,\"#f0f921\"]]}],\"heatmap\":[{\"type\":\"heatmap\",\"colorbar\":{\"outlinewidth\":0,\"ticks\":\"\"},\"colorscale\":[[0.0,\"#0d0887\"],[0.1111111111111111,\"#46039f\"],[0.2222222222222222,\"#7201a8\"],[0.3333333333333333,\"#9c179e\"],[0.4444444444444444,\"#bd3786\"],[0.5555555555555556,\"#d8576b\"],[0.6666666666666666,\"#ed7953\"],[0.7777777777777778,\"#fb9f3a\"],[0.8888888888888888,\"#fdca26\"],[1.0,\"#f0f921\"]]}],\"heatmapgl\":[{\"type\":\"heatmapgl\",\"colorbar\":{\"outlinewidth\":0,\"ticks\":\"\"},\"colorscale\":[[0.0,\"#0d0887\"],[0.1111111111111111,\"#46039f\"],[0.2222222222222222,\"#7201a8\"],[0.3333333333333333,\"#9c179e\"],[0.4444444444444444,\"#bd3786\"],[0.5555555555555556,\"#d8576b\"],[0.6666666666666666,\"#ed7953\"],[0.7777777777777778,\"#fb9f3a\"],[0.8888888888888888,\"#fdca26\"],[1.0,\"#f0f921\"]]}],\"contourcarpet\":[{\"type\":\"contourcarpet\",\"colorbar\":{\"outlinewidth\":0,\"ticks\":\"\"}}],\"contour\":[{\"type\":\"contour\",\"colorbar\":{\"outlinewidth\":0,\"ticks\":\"\"},\"colorscale\":[[0.0,\"#0d0887\"],[0.1111111111111111,\"#46039f\"],[0.2222222222222222,\"#7201a8\"],[0.3333333333333333,\"#9c179e\"],[0.4444444444444444,\"#bd3786\"],[0.5555555555555556,\"#d8576b\"],[0.6666666666666666,\"#ed7953\"],[0.7777777777777778,\"#fb9f3a\"],[0.8888888888888888,\"#fdca26\"],[1.0,\"#f0f921\"]]}],\"surface\":[{\"type\":\"surface\",\"colorbar\":{\"outlinewidth\":0,\"ticks\":\"\"},\"colorscale\":[[0.0,\"#0d0887\"],[0.1111111111111111,\"#46039f\"],[0.2222222222222222,\"#7201a8\"],[0.3333333333333333,\"#9c179e\"],[0.4444444444444444,\"#bd3786\"],[0.5555555555555556,\"#d8576b\"],[0.6666666666666666,\"#ed7953\"],[0.7777777777777778,\"#fb9f3a\"],[0.8888888888888888,\"#fdca26\"],[1.0,\"#f0f921\"]]}],\"mesh3d\":[{\"type\":\"mesh3d\",\"colorbar\":{\"outlinewidth\":0,\"ticks\":\"\"}}],\"scatter\":[{\"fillpattern\":{\"fillmode\":\"overlay\",\"size\":10,\"solidity\":0.2},\"type\":\"scatter\"}],\"parcoords\":[{\"type\":\"parcoords\",\"line\":{\"colorbar\":{\"outlinewidth\":0,\"ticks\":\"\"}}}],\"scatterpolargl\":[{\"type\":\"scatterpolargl\",\"marker\":{\"colorbar\":{\"outlinewidth\":0,\"ticks\":\"\"}}}],\"bar\":[{\"error_x\":{\"color\":\"#2a3f5f\"},\"error_y\":{\"color\":\"#2a3f5f\"},\"marker\":{\"line\":{\"color\":\"#E5ECF6\",\"width\":0.5},\"pattern\":{\"fillmode\":\"overlay\",\"size\":10,\"solidity\":0.2}},\"type\":\"bar\"}],\"scattergeo\":[{\"type\":\"scattergeo\",\"marker\":{\"colorbar\":{\"outlinewidth\":0,\"ticks\":\"\"}}}],\"scatterpolar\":[{\"type\":\"scatterpolar\",\"marker\":{\"colorbar\":{\"outlinewidth\":0,\"ticks\":\"\"}}}],\"histogram\":[{\"marker\":{\"pattern\":{\"fillmode\":\"overlay\",\"size\":10,\"solidity\":0.2}},\"type\":\"histogram\"}],\"scattergl\":[{\"type\":\"scattergl\",\"marker\":{\"colorbar\":{\"outlinewidth\":0,\"ticks\":\"\"}}}],\"scatter3d\":[{\"type\":\"scatter3d\",\"line\":{\"colorbar\":{\"outlinewidth\":0,\"ticks\":\"\"}},\"marker\":{\"colorbar\":{\"outlinewidth\":0,\"ticks\":\"\"}}}],\"scattermapbox\":[{\"type\":\"scattermapbox\",\"marker\":{\"colorbar\":{\"outlinewidth\":0,\"ticks\":\"\"}}}],\"scatterternary\":[{\"type\":\"scatterternary\",\"marker\":{\"colorbar\":{\"outlinewidth\":0,\"ticks\":\"\"}}}],\"scattercarpet\":[{\"type\":\"scattercarpet\",\"marker\":{\"colorbar\":{\"outlinewidth\":0,\"ticks\":\"\"}}}],\"carpet\":[{\"aaxis\":{\"endlinecolor\":\"#2a3f5f\",\"gridcolor\":\"white\",\"linecolor\":\"white\",\"minorgridcolor\":\"white\",\"startlinecolor\":\"#2a3f5f\"},\"baxis\":{\"endlinecolor\":\"#2a3f5f\",\"gridcolor\":\"white\",\"linecolor\":\"white\",\"minorgridcolor\":\"white\",\"startlinecolor\":\"#2a3f5f\"},\"type\":\"carpet\"}],\"table\":[{\"cells\":{\"fill\":{\"color\":\"#EBF0F8\"},\"line\":{\"color\":\"white\"}},\"header\":{\"fill\":{\"color\":\"#C8D4E3\"},\"line\":{\"color\":\"white\"}},\"type\":\"table\"}],\"barpolar\":[{\"marker\":{\"line\":{\"color\":\"#E5ECF6\",\"width\":0.5},\"pattern\":{\"fillmode\":\"overlay\",\"size\":10,\"solidity\":0.2}},\"type\":\"barpolar\"}],\"pie\":[{\"automargin\":true,\"type\":\"pie\"}]},\"layout\":{\"autotypenumbers\":\"strict\",\"colorway\":[\"#636efa\",\"#EF553B\",\"#00cc96\",\"#ab63fa\",\"#FFA15A\",\"#19d3f3\",\"#FF6692\",\"#B6E880\",\"#FF97FF\",\"#FECB52\"],\"font\":{\"color\":\"#2a3f5f\"},\"hovermode\":\"closest\",\"hoverlabel\":{\"align\":\"left\"},\"paper_bgcolor\":\"white\",\"plot_bgcolor\":\"#E5ECF6\",\"polar\":{\"bgcolor\":\"#E5ECF6\",\"angularaxis\":{\"gridcolor\":\"white\",\"linecolor\":\"white\",\"ticks\":\"\"},\"radialaxis\":{\"gridcolor\":\"white\",\"linecolor\":\"white\",\"ticks\":\"\"}},\"ternary\":{\"bgcolor\":\"#E5ECF6\",\"aaxis\":{\"gridcolor\":\"white\",\"linecolor\":\"white\",\"ticks\":\"\"},\"baxis\":{\"gridcolor\":\"white\",\"linecolor\":\"white\",\"ticks\":\"\"},\"caxis\":{\"gridcolor\":\"white\",\"linecolor\":\"white\",\"ticks\":\"\"}},\"coloraxis\":{\"colorbar\":{\"outlinewidth\":0,\"ticks\":\"\"}},\"colorscale\":{\"sequential\":[[0.0,\"#0d0887\"],[0.1111111111111111,\"#46039f\"],[0.2222222222222222,\"#7201a8\"],[0.3333333333333333,\"#9c179e\"],[0.4444444444444444,\"#bd3786\"],[0.5555555555555556,\"#d8576b\"],[0.6666666666666666,\"#ed7953\"],[0.7777777777777778,\"#fb9f3a\"],[0.8888888888888888,\"#fdca26\"],[1.0,\"#f0f921\"]],\"sequentialminus\":[[0.0,\"#0d0887\"],[0.1111111111111111,\"#46039f\"],[0.2222222222222222,\"#7201a8\"],[0.3333333333333333,\"#9c179e\"],[0.4444444444444444,\"#bd3786\"],[0.5555555555555556,\"#d8576b\"],[0.6666666666666666,\"#ed7953\"],[0.7777777777777778,\"#fb9f3a\"],[0.8888888888888888,\"#fdca26\"],[1.0,\"#f0f921\"]],\"diverging\":[[0,\"#8e0152\"],[0.1,\"#c51b7d\"],[0.2,\"#de77ae\"],[0.3,\"#f1b6da\"],[0.4,\"#fde0ef\"],[0.5,\"#f7f7f7\"],[0.6,\"#e6f5d0\"],[0.7,\"#b8e186\"],[0.8,\"#7fbc41\"],[0.9,\"#4d9221\"],[1,\"#276419\"]]},\"xaxis\":{\"gridcolor\":\"white\",\"linecolor\":\"white\",\"ticks\":\"\",\"title\":{\"standoff\":15},\"zerolinecolor\":\"white\",\"automargin\":true,\"zerolinewidth\":2},\"yaxis\":{\"gridcolor\":\"white\",\"linecolor\":\"white\",\"ticks\":\"\",\"title\":{\"standoff\":15},\"zerolinecolor\":\"white\",\"automargin\":true,\"zerolinewidth\":2},\"scene\":{\"xaxis\":{\"backgroundcolor\":\"#E5ECF6\",\"gridcolor\":\"white\",\"linecolor\":\"white\",\"showbackground\":true,\"ticks\":\"\",\"zerolinecolor\":\"white\",\"gridwidth\":2},\"yaxis\":{\"backgroundcolor\":\"#E5ECF6\",\"gridcolor\":\"white\",\"linecolor\":\"white\",\"showbackground\":true,\"ticks\":\"\",\"zerolinecolor\":\"white\",\"gridwidth\":2},\"zaxis\":{\"backgroundcolor\":\"#E5ECF6\",\"gridcolor\":\"white\",\"linecolor\":\"white\",\"showbackground\":true,\"ticks\":\"\",\"zerolinecolor\":\"white\",\"gridwidth\":2}},\"shapedefaults\":{\"line\":{\"color\":\"#2a3f5f\"}},\"annotationdefaults\":{\"arrowcolor\":\"#2a3f5f\",\"arrowhead\":0,\"arrowwidth\":1},\"geo\":{\"bgcolor\":\"white\",\"landcolor\":\"#E5ECF6\",\"subunitcolor\":\"white\",\"showland\":true,\"showlakes\":true,\"lakecolor\":\"white\"},\"title\":{\"x\":0.05},\"mapbox\":{\"style\":\"light\"}}},\"xaxis\":{\"anchor\":\"y\",\"domain\":[0.0,1.0],\"title\":{\"text\":\"Date\"}},\"yaxis\":{\"anchor\":\"x\",\"domain\":[0.0,1.0],\"title\":{\"text\":\"PM2_5\"}},\"legend\":{\"title\":{\"text\":\"variable\"},\"tracegroupgap\":0},\"margin\":{\"t\":60}},                        {\"responsive\": true}                    ).then(function(){\n",
       "                            \n",
       "var gd = document.getElementById('b7ff0d07-a1f9-4f20-9469-c2aa3772e643');\n",
       "var x = new MutationObserver(function (mutations, observer) {{\n",
       "        var display = window.getComputedStyle(gd).display;\n",
       "        if (!display || display === 'none') {{\n",
       "            console.log([gd, 'removed!']);\n",
       "            Plotly.purge(gd);\n",
       "            observer.disconnect();\n",
       "        }}\n",
       "}});\n",
       "\n",
       "// Listen for the removal of the full notebook cells\n",
       "var notebookContainer = gd.closest('#notebook-container');\n",
       "if (notebookContainer) {{\n",
       "    x.observe(notebookContainer, {childList: true});\n",
       "}}\n",
       "\n",
       "// Listen for the clearing of the current output cell\n",
       "var outputEl = gd.closest('.output');\n",
       "if (outputEl) {{\n",
       "    x.observe(outputEl, {childList: true});\n",
       "}}\n",
       "\n",
       "                        })                };                });            </script>        </div>"
      ]
     },
     "metadata": {},
     "output_type": "display_data"
    }
   ],
   "source": [
    "fig = px.line(df_pred_test,labels={\"value\":\"PM2_5\"})\n",
    "fig.show()"
   ]
  },
  {
   "cell_type": "markdown",
   "id": "80e1bb3f",
   "metadata": {},
   "source": [
    "Perform walk-forward validation for your model for the entire test set y_test. Store your model's predictions in the Series y_pred_wfv"
   ]
  },
  {
   "cell_type": "code",
   "execution_count": null,
   "id": "65c48587",
   "metadata": {},
   "outputs": [],
   "source": []
  }
 ],
 "metadata": {
  "kernelspec": {
   "display_name": "Python 3 (ipykernel)",
   "language": "python",
   "name": "python3"
  },
  "language_info": {
   "codemirror_mode": {
    "name": "ipython",
    "version": 3
   },
   "file_extension": ".py",
   "mimetype": "text/x-python",
   "name": "python",
   "nbconvert_exporter": "python",
   "pygments_lexer": "ipython3",
   "version": "3.9.7"
  }
 },
 "nbformat": 4,
 "nbformat_minor": 5
}
